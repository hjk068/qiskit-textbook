{
 "cells": [
  {
   "cell_type": "markdown",
   "metadata": {
    "tags": [
     "remove_cell"
    ]
   },
   "source": [
    "# Introduction"
   ]
  },
  {
   "cell_type": "markdown",
   "metadata": {},
   "source": [
    "만약 당신이 양자역학이 어렵다고 느낀다면, 당신은 혼자가 아닙니다. 우리의 모든 직감은 일상 생활 속의 경험들에 기반한 것이므로, 원자나 전자의 행동을 이해하는 것보단 공이나 바나나의 행동을 이해하는 게 더 쉬울 수 밖에 없습니다. 처음 봤을 때 양자 물체들은 혼란스럽고 무작위인 것처럼 보일 수도 있지만, 그들은 그저 다른 체계의 규칙들을 따르는 것일 뿐입니다. 이 규칙들이 어떤 것인지만 안다면 이들을 사용해 더 강력하고 새로운 기술을 개발할 수 있을 것입니다. 양자 컴퓨팅은 이에 대한 가장 혁신적인 예가 될 것입니다."
   ]
  },
  {
   "cell_type": "markdown",
   "metadata": {},
   "source": [
    "![image1](images/atoms10.png)\n"
   ]
  },
  {
   "cell_type": "markdown",
   "metadata": {},
   "source": [
    "양자 컴퓨팅 세계로의 여행을 시작하기 위해, 우선 당신이 이미 알고 있는 지식을 시험해 볼 것입니다. 다음의 선택지들 중 *비트* 에 관한 올바른 설명은 무엇입니까?\n",
    "\n",
    "* 목수가 사용하는 칼날.\n",
    "* 정보를 나타내는 최소 단위: ```0``` 아니면 ```1```. \n",
    "* 말의 입 속에 넣는 것.\n",
    "\n",
    "사실, 모두 다 정답입니다: 이 단어는 굉장히 다양한 목적으로 쓰일 수 있습니다! 하지만 만약 두 번째 선택지를 골랐다면, 당신은 이미 옳은 맥락에서 생각하고 있습니다. 정보가 ```0``` 과 ```1``` 의 연속으로 저장되고 처리될 수 있다는 아이디어는 꽤나 이해하기 어려운 개념이지만, 오늘날 대다수의 사람들이 이미 알고 있는 개념이기도 합니다. 이를 출발점으로 삼아 양자역학의 규칙을 따르는 비트들을 상상해볼 수 있습니다. 이 양자 비트, 또는 *큐비트* 들은 정보를 새롭고 다른 방식으로 처리할 수 있게 해줄 것입니다.\n",
    "\n",
    "이제 큐비트들의 세계로 더 깊게 뛰어 들어가 볼 것입니다. 이를 위해서는 게이트들을 적용시킬 때 큐비트들이 무엇을 하고 있는지 확인할 수 있는 방법이 필요합니다. 가장 효과적인 방법은 수학적 언어인 벡터와 행렬을 사용하는 것입니다."
   ]
  },
  {
   "cell_type": "markdown",
   "metadata": {},
   "source": [
    "![image2](images/bloch.png)\n"
   ]
  },
  {
   "cell_type": "markdown",
   "metadata": {},
   "source": [
    "이 챕터는 벡터와 행렬에 익숙한 독자들에게 가장 효과적일 것입니다. 이 개념들에 익숙하지 않은 독자들도 따라오는 데에 문제는 없겠지만 [Introduction to Linear Algebra for Quantum Computing](../ch-appendix/linear_algebra.html) 페이지를 참고하면 많은 도움이 될 것입니다.\n",
    "\n",
    "양자 컴퓨팅을 위한 Python 기반 프레임워크인 Qiskit을 사용할 것이기 때문에 Python의 기초를 아는 것도 매우 도움이 될 것입니다. 입문서가 필요하다면 [Introduction to Python and Jupyter notebooks](../ch-prerequisites/python-and-jupyter-notebooks.html) 페이지를 참고하세요."
   ]
  },
  {
   "cell_type": "code",
   "execution_count": null,
   "metadata": {},
   "outputs": [],
   "source": []
  }
 ],
 "metadata": {
  "kernelspec": {
   "display_name": "Python 3",
   "language": "python",
   "name": "python3"
  },
  "language_info": {
   "codemirror_mode": {
    "name": "ipython",
    "version": 3
   },
   "file_extension": ".py",
   "mimetype": "text/x-python",
   "name": "python",
   "nbconvert_exporter": "python",
   "pygments_lexer": "ipython3",
   "version": "3.7.7"
  }
 },
 "nbformat": 4,
 "nbformat_minor": 2
}
