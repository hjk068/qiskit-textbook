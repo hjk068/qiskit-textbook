{
 "cells": [
  {
   "cell_type": "markdown",
   "metadata": {
    "tags": [
     "remove_cell"
    ]
   },
   "source": [
    "# Introduction"
   ]
  },
  {
   "cell_type": "markdown",
   "metadata": {},
   "source": [
    "단일 큐비트들과 단일 큐비트 게이트들을 사용한 여러 흥미로운 효과들을 보았지만, 양자 컴퓨팅의 진정한 힘은 큐비트들간의 상호작용을 통해 깨달을 수 있습니다. 이 챕터에서는 다중 큐비트 게이트들을 소개하고 다중 큐비트 시스템들의 흥미로운 성질들을 탐구해 볼 것입니다.\n",
    "\n",
    "보통 하드웨어에서 직접적으로 시행될 수 있는 게이트들은 하나 아니면 두 큐비트들에만 작용할 것입니다. 하지만 더 많은 수의 큐비트들에 대해 작용할 수 있는 더 복잡한 게이트들을 사용하고 싶을 수 있습니다. 다행히도 이는 문제가 되지 않습니다. 하드웨어에서 제공되는 단일 또는 이중 큐비트 게이트들만을 사용해 다른 모든 게이트들을 만들 수 있기 때문입니다.\n",
    "\n",
    "이 챕터에서는 우선 가장 기초적인 다중 큐비트 게이트들을 소개하고 이들을 수학적으로 설명하고 분석할 것입니다. 그 다음에는 이 게이트들만을 사용해 어떻게 어떤 양자 알고리즘이든 구현할 수 있는지를 증명하는 방법을 보여줄 것입니다.\n",
    "그리고 이 챕터는 양자 게이트들을 소규모로 응용하는 예시들을 살펴보며 끝맺을 것입니다. 예를 들어, 단일과 이중 큐비트 연산들을 이용해 어떻게 토폴리와 같은 삼중 큐비트 게이트들을 만드는지 살펴볼 것입니다.\n",
    "\n",
    "\n",
    "![A Toffoli made from single- and two-qubit gates](images/basic3.png)\n",
    "*위에서부터 순서대로 q0, q1, 그리고 q2 세 개의 큐비트들을 사용하는 토폴리 게이트입니다. 이 회로 예시에서 q0은 q2와는 연결되어 있지만 q1과는 연결되어 있지 않습니다."
   ]
  },
  {
   "cell_type": "code",
   "execution_count": null,
   "metadata": {},
   "outputs": [],
   "source": []
  }
 ],
 "metadata": {
  "kernelspec": {
   "display_name": "Python 3",
   "language": "python",
   "name": "python3"
  },
  "language_info": {
   "codemirror_mode": {
    "name": "ipython",
    "version": 3
   },
   "file_extension": ".py",
   "mimetype": "text/x-python",
   "name": "python",
   "nbconvert_exporter": "python",
   "pygments_lexer": "ipython3",
   "version": "3.8.3"
  }
 },
 "nbformat": 4,
 "nbformat_minor": 2
}
